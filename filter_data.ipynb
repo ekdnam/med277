{
 "cells": [
  {
   "cell_type": "code",
   "execution_count": 1,
   "id": "8923ac1a",
   "metadata": {},
   "outputs": [],
   "source": [
    "import pandas as pd"
   ]
  },
  {
   "cell_type": "markdown",
   "id": "438a3a11",
   "metadata": {},
   "source": [
    "# Load datasets"
   ]
  },
  {
   "cell_type": "code",
   "execution_count": 2,
   "id": "23d8bf13",
   "metadata": {},
   "outputs": [
    {
     "name": "stdout",
     "output_type": "stream",
     "text": [
      "Shape of the df is (331793, 8)\n",
      "Columns are Index(['note_id', 'subject_id', 'hadm_id', 'note_type', 'note_seq',\n",
      "       'charttime', 'storetime', 'text'],\n",
      "      dtype='object')\n",
      "CPU times: user 29.4 s, sys: 1.29 s, total: 30.7 s\n",
      "Wall time: 30.9 s\n"
     ]
    }
   ],
   "source": [
    "%%time\n",
    "discharge_df = pd.read_csv('discharge.csv')\n",
    "\n",
    "print(f'Shape of the df is {discharge_df.shape}')\n",
    "print(f'Columns are {discharge_df.columns}')"
   ]
  },
  {
   "cell_type": "code",
   "execution_count": 3,
   "id": "396185a7",
   "metadata": {},
   "outputs": [
    {
     "name": "stdout",
     "output_type": "stream",
     "text": [
      "CPU times: user 910 ms, sys: 149 ms, total: 1.06 s\n",
      "Wall time: 1.13 s\n"
     ]
    }
   ],
   "source": [
    "%%time\n",
    "\n",
    "diagnoses_icd_df = pd.read_csv('diagnoses_icd.csv')"
   ]
  },
  {
   "cell_type": "code",
   "execution_count": 4,
   "id": "b4049399",
   "metadata": {},
   "outputs": [
    {
     "name": "stdout",
     "output_type": "stream",
     "text": [
      "CPU times: user 187 ms, sys: 15.5 ms, total: 202 ms\n",
      "Wall time: 206 ms\n"
     ]
    }
   ],
   "source": [
    "%%time\n",
    "icd_codes_df = pd.read_csv('d_icd_diagnoses.csv')\n",
    "\n",
    "cancer_icd_df = icd_codes_df.loc[icd_codes_df.long_title.str.contains('neoplasm', case=False), :]\n",
    "\n",
    "cancer_icd_codes_set = set(cancer_icd_df['icd_code'])"
   ]
  },
  {
   "cell_type": "markdown",
   "id": "7c22237a",
   "metadata": {},
   "source": [
    "# Merge both dataframes\n",
    "\n",
    "We merge the datasets on subject_id and hadm_id"
   ]
  },
  {
   "cell_type": "code",
   "execution_count": 5,
   "id": "9de8e51a",
   "metadata": {},
   "outputs": [
    {
     "name": "stdout",
     "output_type": "stream",
     "text": [
      "CPU times: user 777 ms, sys: 530 ms, total: 1.31 s\n",
      "Wall time: 1.37 s\n"
     ]
    }
   ],
   "source": [
    "%%time\n",
    "\n",
    "merged_df = pd.merge(discharge_df, diagnoses_icd_df, how='inner', on=['subject_id', 'hadm_id'])"
   ]
  },
  {
   "cell_type": "code",
   "execution_count": 6,
   "id": "0f31ea7e",
   "metadata": {},
   "outputs": [],
   "source": [
    "# discharge_df[discharge_df['subject_id']==10001186]\n",
    "# diagnoses_icd_df[diagnoses_icd_df['subject_id']==10001186]\n",
    "# merged_df[merged_df['subject_id']==10001186]"
   ]
  },
  {
   "cell_type": "code",
   "execution_count": 7,
   "id": "90fbe5b5",
   "metadata": {},
   "outputs": [
    {
     "name": "stdout",
     "output_type": "stream",
     "text": [
      "CPU times: user 162 ms, sys: 14 ms, total: 176 ms\n",
      "Wall time: 176 ms\n"
     ]
    }
   ],
   "source": [
    "%%time\n",
    "cancer_notes_df = merged_df[merged_df['icd_code'].isin(cancer_icd_codes_set)]"
   ]
  },
  {
   "cell_type": "code",
   "execution_count": 8,
   "id": "f44c3dc0",
   "metadata": {},
   "outputs": [
    {
     "name": "stdout",
     "output_type": "stream",
     "text": [
      "We have 14231 unique people with cancer seq num to be 1\n",
      "We have 35581 unique people with cancer seq num not to be 1\n",
      "The unique people who do not have seq num as one are 24625\n"
     ]
    }
   ],
   "source": [
    "print(f\"We have {len(set(cancer_notes_df[cancer_notes_df['seq_num']==1]['subject_id']))} unique people with cancer seq num to be 1\")\n",
    "print(f\"We have {len(set(cancer_notes_df[cancer_notes_df['seq_num']!=1]['subject_id']))} unique people with cancer seq num not to be 1\")\n",
    "print(f\"\"\"The unique people who do not have seq num as one are {\n",
    "    len(set(cancer_notes_df[cancer_notes_df['seq_num']!=1]['subject_id']) - set(cancer_notes_df[cancer_notes_df['seq_num']==1]['subject_id']))}\"\"\")"
   ]
  },
  {
   "cell_type": "code",
   "execution_count": 9,
   "id": "5a5d2d04",
   "metadata": {},
   "outputs": [
    {
     "name": "stdout",
     "output_type": "stream",
     "text": [
      "CPU times: user 509 ms, sys: 35.2 ms, total: 544 ms\n",
      "Wall time: 545 ms\n"
     ]
    }
   ],
   "source": [
    "%%time\n",
    "not_cancer_seq_1_df = merged_df[merged_df['subject_id'].isin(set(merged_df['subject_id']) - set(cancer_notes_df[cancer_notes_df['seq_num']==1]['subject_id']))]"
   ]
  },
  {
   "cell_type": "code",
   "execution_count": 10,
   "id": "528ce4d9",
   "metadata": {},
   "outputs": [
    {
     "data": {
      "text/plain": [
       "(3575125, 11)"
      ]
     },
     "execution_count": 10,
     "metadata": {},
     "output_type": "execute_result"
    }
   ],
   "source": [
    "not_cancer_seq_1_df.shape"
   ]
  },
  {
   "cell_type": "code",
   "execution_count": 11,
   "id": "0442d410",
   "metadata": {},
   "outputs": [
    {
     "name": "stdout",
     "output_type": "stream",
     "text": [
      "CPU times: user 3.19 ms, sys: 1.08 ms, total: 4.27 ms\n",
      "Wall time: 3.43 ms\n"
     ]
    }
   ],
   "source": [
    "%%time\n",
    "cancer_seq_1_df = cancer_notes_df[cancer_notes_df['seq_num']==1]"
   ]
  },
  {
   "cell_type": "code",
   "execution_count": 12,
   "id": "40a2f711",
   "metadata": {},
   "outputs": [
    {
     "data": {
      "text/plain": [
       "(19448, 11)"
      ]
     },
     "execution_count": 12,
     "metadata": {},
     "output_type": "execute_result"
    }
   ],
   "source": [
    "cancer_seq_1_df.shape"
   ]
  },
  {
   "cell_type": "code",
   "execution_count": 13,
   "id": "66588a2e",
   "metadata": {},
   "outputs": [],
   "source": [
    "# cancer_notes_seq_not_1_df['subject_id'].nunique()\n",
    "# cancer_notes_df[cancer_notes_df['seq_num']==1]['subject_id'].nunique()"
   ]
  },
  {
   "cell_type": "code",
   "execution_count": 14,
   "id": "1b65f1b7",
   "metadata": {},
   "outputs": [],
   "source": [
    "import re\n",
    "\n",
    "def cleanup(document):\n",
    "    lines = document.split('\\n')\n",
    "    result = {}\n",
    "    current_header = None\n",
    "    current_value = []\n",
    "\n",
    "    for line in lines:\n",
    "        # Check if the line ends with a colon, indicating a header\n",
    "        if line.rstrip().endswith(':'):\n",
    "            # Save the previous header and its value\n",
    "            if current_header is not None:\n",
    "                result[current_header.lower()] = '\\n'.join(current_value).strip()\n",
    "            \n",
    "            # Extract the header (remove the colon at the end)\n",
    "            current_header = line.rstrip()[:-1].strip()\n",
    "            \n",
    "            # Initialize the current value for the new header\n",
    "            current_value = []\n",
    "        else:\n",
    "            # Append the line to the current value\n",
    "            current_value.append(line)\n",
    "    \n",
    "    # Save the last header and its value\n",
    "    if current_header is not None:\n",
    "        result[current_header.lower()] = '\\n'.join(current_value).strip()\n",
    "\n",
    "    return result\n",
    "\n",
    "def cleanup_v2(document):\n",
    "    # Use regular expressions to find headers and values\n",
    "    pattern = re.compile(r'([^:\\n]+):\\s*([^\\n]*)')\n",
    "    matches = pattern.findall(document)\n",
    "\n",
    "    result = {}\n",
    "    current_header = None\n",
    "    current_value = []\n",
    "\n",
    "    for header, value in matches:\n",
    "        # Check if the header is not an empty string\n",
    "        if header.strip():\n",
    "            # Save the previous header and its value\n",
    "            if current_header is not None:\n",
    "                result[current_header] = '\\n'.join(current_value).strip()\n",
    "            \n",
    "            # Set the new header and initialize the current value\n",
    "            current_header = header.strip()\n",
    "            current_value = [value.strip()]\n",
    "        else:\n",
    "            # Append the value to the current value\n",
    "            current_value.append(value.strip())\n",
    "    \n",
    "    # Save the last header and its value\n",
    "    if current_header is not None:\n",
    "        result[current_header] = '\\n'.join(current_value).strip()\n",
    "\n",
    "    return result"
   ]
  },
  {
   "cell_type": "code",
   "execution_count": 15,
   "id": "9a02a9ef",
   "metadata": {},
   "outputs": [],
   "source": [
    "def cleanup_v3(document):\n",
    "    lines = document.split('\\n')\n",
    "    result = {}\n",
    "    current_header = None\n",
    "    current_value = []\n",
    "\n",
    "    for line in lines:\n",
    "        # Check if the line contains a colon, indicating a header\n",
    "        if ':' in line:\n",
    "            # Save the previous header and its value\n",
    "            if current_header is not None:\n",
    "                result[current_header.lower()] = '\\n'.join(current_value).strip()\n",
    "\n",
    "            # Split the line into header and value\n",
    "            header, value = map(str.strip, line.split(':', 1))\n",
    "\n",
    "            # Handle cases where value continues on the next line\n",
    "            if not value:\n",
    "                current_header = header\n",
    "                current_value = []\n",
    "            else:\n",
    "                result[header.lower()] = value\n",
    "                current_header = None\n",
    "                current_value = []\n",
    "        elif current_header is not None:\n",
    "            # Append the line to the current value\n",
    "            current_value.append(line)\n",
    "\n",
    "    # Save the last header and its value\n",
    "    if current_header is not None:\n",
    "        result[current_header.lower()] = '\\n'.join(current_value).strip()\n",
    "\n",
    "    return result\n"
   ]
  },
  {
   "cell_type": "code",
   "execution_count": 16,
   "id": "a029731e",
   "metadata": {},
   "outputs": [
    {
     "name": "stdout",
     "output_type": "stream",
     "text": [
      "___ HCV cirrhosis c/b ascites, hiv on ART, h/o IVDU, COPD, \n",
      "bioplar, PTSD, presented from OSH ED with worsening abd \n",
      "distension over past week and confusion.  \n",
      "\n",
      "# Ascites - p/w worsening abd distension and discomfort for last \n",
      "week. likely ___ portal HTN given underlying liver disease, \n",
      "though no ascitic fluid available on night of admission. No \n",
      "signs of heart failure noted on exam. This was ___ to med \n",
      "non-compliance and lack of diet restriction. SBP negative\n"
     ]
    }
   ],
   "source": [
    "result = cleanup_v3(not_cancer_seq_1_df['text'][0])\n",
    "print(result['brief hospital course'])"
   ]
  },
  {
   "cell_type": "code",
   "execution_count": 17,
   "id": "9cbc95a4",
   "metadata": {},
   "outputs": [],
   "source": [
    "import re\n",
    "\n",
    "def cleanup_v4(document):\n",
    "    lines = document.split('\\n')\n",
    "    result = {}\n",
    "    current_header = None\n",
    "    current_value = []\n",
    "\n",
    "    for line in lines:\n",
    "        # Check if the line ends with a colon, indicating a header\n",
    "        if re.match(r'^\\s*[a-zA-Z ]+\\s*:\\s*$', line):\n",
    "            # Save the previous header and its value\n",
    "            if current_header is not None:\n",
    "                result[current_header.lower()] = '\\n'.join(current_value).strip()\n",
    "\n",
    "            # Extract the header (remove the colon at the end)\n",
    "            current_header = line.strip()[:-1]\n",
    "            \n",
    "            # Initialize the current value for the new header\n",
    "            current_value = []\n",
    "        else:\n",
    "            # Append the line to the current value\n",
    "            current_value.append(line)\n",
    "\n",
    "    # Save the last header and its value\n",
    "    if current_header is not None:\n",
    "        result[current_header.lower()] = '\\n'.join(current_value).strip()\n",
    "\n",
    "    return result"
   ]
  },
  {
   "cell_type": "code",
   "execution_count": 18,
   "id": "9c1fedaa",
   "metadata": {},
   "outputs": [
    {
     "data": {
      "text/plain": [
       "dict_keys(['allergies', 'chief complaint', 'major surgical or invasive procedure', 'history of present illness', 'past medical history', 'social history', 'family history', 'physical exam', 'pertinent results', 'impression', 'brief hospital course', 'medications on admission', 'discharge medications', 'discharge disposition', 'discharge diagnosis', 'primary diagnoses', 'discharge condition', 'discharge instructions', 'we made the following changes to your medicines', 'followup instructions'])"
      ]
     },
     "execution_count": 18,
     "metadata": {},
     "output_type": "execute_result"
    }
   ],
   "source": [
    "cleanup_v4(not_cancer_seq_1_df['text'][100]).keys()"
   ]
  },
  {
   "cell_type": "code",
   "execution_count": 19,
   "id": "4a8385e8",
   "metadata": {},
   "outputs": [],
   "source": [
    "reqd_headers = ['allergies', 'service', 'chief complaint', 'past medical history', \\\n",
    "                'family history', 'primary diagnoses', 'brief hospital course']"
   ]
  },
  {
   "cell_type": "code",
   "execution_count": 24,
   "id": "d2ec21eb",
   "metadata": {},
   "outputs": [],
   "source": [
    "def get_reqd_text(text):\n",
    "    result = cleanup_v4(text)\n",
    "    out = ''\n",
    "    for header in reqd_headers:\n",
    "        if header in result:\n",
    "            out += f'{header}: {result[header]}\\n'\n",
    "    return out"
   ]
  },
  {
   "cell_type": "code",
   "execution_count": 25,
   "id": "c6f9b5a9",
   "metadata": {},
   "outputs": [
    {
     "data": {
      "text/plain": [
       "Index(['note_id', 'subject_id', 'hadm_id', 'note_type', 'note_seq',\n",
       "       'charttime', 'storetime', 'text', 'seq_num', 'icd_code', 'icd_version'],\n",
       "      dtype='object')"
      ]
     },
     "execution_count": 25,
     "metadata": {},
     "output_type": "execute_result"
    }
   ],
   "source": [
    "not_cancer_seq_1_df.columns"
   ]
  },
  {
   "cell_type": "code",
   "execution_count": 35,
   "id": "9d0ef049",
   "metadata": {},
   "outputs": [
    {
     "name": "stdout",
     "output_type": "stream",
     "text": [
      "CPU times: user 768 ms, sys: 463 ms, total: 1.23 s\n",
      "Wall time: 1.29 s\n"
     ]
    }
   ],
   "source": [
    "%%time\n",
    "\n",
    "class_0_df = not_cancer_seq_1_df.copy()\n",
    "\n",
    "class_0_df['class'] = 0\n",
    "\n",
    "class_0_df.drop(['note_id', 'hadm_id', 'note_type', 'note_seq', \\\n",
    "       'charttime', 'storetime', 'seq_num'], axis=1, inplace=True)"
   ]
  },
  {
   "cell_type": "code",
   "execution_count": 36,
   "id": "4bc196f1",
   "metadata": {},
   "outputs": [
    {
     "name": "stdout",
     "output_type": "stream",
     "text": [
      "CPU times: user 14.5 ms, sys: 234 ms, total: 248 ms\n",
      "Wall time: 1.02 s\n"
     ]
    }
   ],
   "source": [
    "%%time\n",
    "\n",
    "class_1_df = cancer_seq_1_df.copy()\n",
    "\n",
    "class_1_df['class'] = 1\n",
    "\n",
    "class_1_df.drop(['note_id', 'hadm_id', 'note_type', 'note_seq', \\\n",
    "       'charttime', 'storetime', 'seq_num'], axis=1, inplace=True)"
   ]
  },
  {
   "cell_type": "code",
   "execution_count": 37,
   "id": "f6a30eda",
   "metadata": {},
   "outputs": [
    {
     "data": {
      "text/html": [
       "<div>\n",
       "<style scoped>\n",
       "    .dataframe tbody tr th:only-of-type {\n",
       "        vertical-align: middle;\n",
       "    }\n",
       "\n",
       "    .dataframe tbody tr th {\n",
       "        vertical-align: top;\n",
       "    }\n",
       "\n",
       "    .dataframe thead th {\n",
       "        text-align: right;\n",
       "    }\n",
       "</style>\n",
       "<table border=\"1\" class=\"dataframe\">\n",
       "  <thead>\n",
       "    <tr style=\"text-align: right;\">\n",
       "      <th></th>\n",
       "      <th>subject_id</th>\n",
       "      <th>text</th>\n",
       "      <th>icd_code</th>\n",
       "      <th>icd_version</th>\n",
       "      <th>class</th>\n",
       "    </tr>\n",
       "  </thead>\n",
       "  <tbody>\n",
       "    <tr>\n",
       "      <th>73</th>\n",
       "      <td>10000560</td>\n",
       "      <td>\\nName:  ___                     Unit No:   _...</td>\n",
       "      <td>1890</td>\n",
       "      <td>9</td>\n",
       "      <td>1</td>\n",
       "    </tr>\n",
       "    <tr>\n",
       "      <th>154</th>\n",
       "      <td>10000935</td>\n",
       "      <td>\\nName:  ___                   Unit No:   ___...</td>\n",
       "      <td>1977</td>\n",
       "      <td>9</td>\n",
       "      <td>1</td>\n",
       "    </tr>\n",
       "    <tr>\n",
       "      <th>181</th>\n",
       "      <td>10000935</td>\n",
       "      <td>\\nName:  ___                   Unit No:   ___...</td>\n",
       "      <td>1970</td>\n",
       "      <td>9</td>\n",
       "      <td>1</td>\n",
       "    </tr>\n",
       "    <tr>\n",
       "      <th>419</th>\n",
       "      <td>10001401</td>\n",
       "      <td>\\nName:  ___              Unit No:   ___\\n \\n...</td>\n",
       "      <td>C675</td>\n",
       "      <td>10</td>\n",
       "      <td>1</td>\n",
       "    </tr>\n",
       "    <tr>\n",
       "      <th>567</th>\n",
       "      <td>10001877</td>\n",
       "      <td>\\nName:  ___                ___ No:   ___\\n \\...</td>\n",
       "      <td>2252</td>\n",
       "      <td>9</td>\n",
       "      <td>1</td>\n",
       "    </tr>\n",
       "  </tbody>\n",
       "</table>\n",
       "</div>"
      ],
      "text/plain": [
       "     subject_id                                               text icd_code   \n",
       "73     10000560   \\nName:  ___                     Unit No:   _...     1890  \\\n",
       "154    10000935   \\nName:  ___                   Unit No:   ___...     1977   \n",
       "181    10000935   \\nName:  ___                   Unit No:   ___...     1970   \n",
       "419    10001401   \\nName:  ___              Unit No:   ___\\n \\n...     C675   \n",
       "567    10001877   \\nName:  ___                ___ No:   ___\\n \\...     2252   \n",
       "\n",
       "     icd_version  class  \n",
       "73             9      1  \n",
       "154            9      1  \n",
       "181            9      1  \n",
       "419           10      1  \n",
       "567            9      1  "
      ]
     },
     "execution_count": 37,
     "metadata": {},
     "output_type": "execute_result"
    }
   ],
   "source": [
    "class_1_df.head()"
   ]
  },
  {
   "cell_type": "code",
   "execution_count": 39,
   "id": "c008c8d8",
   "metadata": {},
   "outputs": [
    {
     "data": {
      "text/plain": [
       "(19448, 5)"
      ]
     },
     "execution_count": 39,
     "metadata": {},
     "output_type": "execute_result"
    }
   ],
   "source": [
    "class_1_df.shape"
   ]
  },
  {
   "cell_type": "code",
   "execution_count": 38,
   "id": "35c8ad14",
   "metadata": {},
   "outputs": [
    {
     "data": {
      "text/html": [
       "<div>\n",
       "<style scoped>\n",
       "    .dataframe tbody tr th:only-of-type {\n",
       "        vertical-align: middle;\n",
       "    }\n",
       "\n",
       "    .dataframe tbody tr th {\n",
       "        vertical-align: top;\n",
       "    }\n",
       "\n",
       "    .dataframe thead th {\n",
       "        text-align: right;\n",
       "    }\n",
       "</style>\n",
       "<table border=\"1\" class=\"dataframe\">\n",
       "  <thead>\n",
       "    <tr style=\"text-align: right;\">\n",
       "      <th></th>\n",
       "      <th>subject_id</th>\n",
       "      <th>text</th>\n",
       "      <th>icd_code</th>\n",
       "      <th>icd_version</th>\n",
       "      <th>class</th>\n",
       "    </tr>\n",
       "  </thead>\n",
       "  <tbody>\n",
       "    <tr>\n",
       "      <th>0</th>\n",
       "      <td>10000032</td>\n",
       "      <td>\\nName:  ___                     Unit No:   _...</td>\n",
       "      <td>5723</td>\n",
       "      <td>9</td>\n",
       "      <td>0</td>\n",
       "    </tr>\n",
       "    <tr>\n",
       "      <th>1</th>\n",
       "      <td>10000032</td>\n",
       "      <td>\\nName:  ___                     Unit No:   _...</td>\n",
       "      <td>78959</td>\n",
       "      <td>9</td>\n",
       "      <td>0</td>\n",
       "    </tr>\n",
       "    <tr>\n",
       "      <th>2</th>\n",
       "      <td>10000032</td>\n",
       "      <td>\\nName:  ___                     Unit No:   _...</td>\n",
       "      <td>5715</td>\n",
       "      <td>9</td>\n",
       "      <td>0</td>\n",
       "    </tr>\n",
       "    <tr>\n",
       "      <th>3</th>\n",
       "      <td>10000032</td>\n",
       "      <td>\\nName:  ___                     Unit No:   _...</td>\n",
       "      <td>07070</td>\n",
       "      <td>9</td>\n",
       "      <td>0</td>\n",
       "    </tr>\n",
       "    <tr>\n",
       "      <th>4</th>\n",
       "      <td>10000032</td>\n",
       "      <td>\\nName:  ___                     Unit No:   _...</td>\n",
       "      <td>496</td>\n",
       "      <td>9</td>\n",
       "      <td>0</td>\n",
       "    </tr>\n",
       "  </tbody>\n",
       "</table>\n",
       "</div>"
      ],
      "text/plain": [
       "   subject_id                                               text icd_code   \n",
       "0    10000032   \\nName:  ___                     Unit No:   _...     5723  \\\n",
       "1    10000032   \\nName:  ___                     Unit No:   _...    78959   \n",
       "2    10000032   \\nName:  ___                     Unit No:   _...     5715   \n",
       "3    10000032   \\nName:  ___                     Unit No:   _...    07070   \n",
       "4    10000032   \\nName:  ___                     Unit No:   _...      496   \n",
       "\n",
       "   icd_version  class  \n",
       "0            9      0  \n",
       "1            9      0  \n",
       "2            9      0  \n",
       "3            9      0  \n",
       "4            9      0  "
      ]
     },
     "execution_count": 38,
     "metadata": {},
     "output_type": "execute_result"
    }
   ],
   "source": [
    "class_0_df.head()"
   ]
  },
  {
   "cell_type": "code",
   "execution_count": 40,
   "id": "0a10a1f6",
   "metadata": {},
   "outputs": [
    {
     "data": {
      "text/plain": [
       "(3575125, 5)"
      ]
     },
     "execution_count": 40,
     "metadata": {},
     "output_type": "execute_result"
    }
   ],
   "source": [
    "class_0_df.shape"
   ]
  },
  {
   "cell_type": "code",
   "execution_count": 41,
   "id": "fe0476f4",
   "metadata": {},
   "outputs": [
    {
     "name": "stdout",
     "output_type": "stream",
     "text": [
      "CPU times: user 3.87 s, sys: 49.1 ms, total: 3.92 s\n",
      "Wall time: 4.03 s\n"
     ]
    }
   ],
   "source": [
    "%%time\n",
    "class_1_df['shortened_text'] = class_1_df['text'].apply(get_reqd_text)"
   ]
  },
  {
   "cell_type": "code",
   "execution_count": 42,
   "id": "b3f7cfc8",
   "metadata": {},
   "outputs": [
    {
     "data": {
      "text/plain": [
       "'allergies: Patient recorded as having No Known Allergies to Drugs\\n \\nAttending: ___.\\nchief complaint: renal mass\\npast medical history: PMH: nonspecific right axis deviation  \\n\\nPSH- cesarean section\\n\\nALL-NKDA\\nfamily history: no history of RCC\\nbrief hospital course: Patient was admitted to Urology after undergoing laparoscopic \\nright radical nephrectomy. No concerning intraoperative events \\noccurred; please see dictated operative note for details. The \\npatient received perioperative antibiotic prophylaxis. The \\npatient was transferred to the floor from the PACU in stable \\ncondition.  On POD0, pain was well controlled on PCA, hydrated \\nfor urine output >30cc/hour, provided with pneumoboots and \\nincentive spirometry for prophylaxis, and ambulated once. On \\nPOD1,foley was removed without difficulty, basic metabolic panel \\nand complete blood count were checked, pain control was \\ntransitioned from PCA to oral analgesics, diet was advanced to a \\nclears/toast and crackers diet. On POD2, diet was advanced as \\ntolerated. The remainder of the hospital course was relatively \\nunremarkable. The patient was discharged in stable condition, \\neating well, ambulating independently, voiding without \\ndifficulty, and with pain control on oral analgesics. On exam, \\nincision was clean, dry, and intact, with no evidence of \\nhematoma collection or infection. The patient was given explicit \\ninstructions to follow-up in clinic with ___ in 3 weeks.\\n'"
      ]
     },
     "execution_count": 42,
     "metadata": {},
     "output_type": "execute_result"
    }
   ],
   "source": [
    "class_1_df['shortened_text'][73]"
   ]
  },
  {
   "cell_type": "code",
   "execution_count": 43,
   "id": "4394508d",
   "metadata": {},
   "outputs": [
    {
     "name": "stdout",
     "output_type": "stream",
     "text": [
      "CPU times: user 14min 26s, sys: 16.2 s, total: 14min 43s\n",
      "Wall time: 15min 23s\n"
     ]
    }
   ],
   "source": [
    "%%time\n",
    "class_0_df['shortened_text'] = class_0_df['text'].apply(get_reqd_text)"
   ]
  },
  {
   "cell_type": "code",
   "execution_count": 45,
   "id": "3a8c1888",
   "metadata": {},
   "outputs": [
    {
     "data": {
      "text/plain": [
       "131613"
      ]
     },
     "execution_count": 45,
     "metadata": {},
     "output_type": "execute_result"
    }
   ],
   "source": [
    "class_0_df['subject_id'].nunique()"
   ]
  },
  {
   "cell_type": "code",
   "execution_count": 46,
   "id": "bff1dbd3",
   "metadata": {},
   "outputs": [
    {
     "data": {
      "text/plain": [
       "14231"
      ]
     },
     "execution_count": 46,
     "metadata": {},
     "output_type": "execute_result"
    }
   ],
   "source": [
    "class_1_df['subject_id'].nunique()"
   ]
  },
  {
   "cell_type": "code",
   "execution_count": 47,
   "id": "ea3babfb",
   "metadata": {},
   "outputs": [],
   "source": [
    "final_class_0_df = class_0_df.copy()\n",
    "final_class_1_df = class_1_df.copy()"
   ]
  },
  {
   "cell_type": "code",
   "execution_count": 48,
   "id": "63828c6c",
   "metadata": {},
   "outputs": [],
   "source": [
    "final_class_0_df = final_class_0_df.drop_duplicates(subset=['subject_id'])\n",
    "final_class_1_df = final_class_1_df.drop_duplicates(subset=['subject_id'])"
   ]
  },
  {
   "cell_type": "code",
   "execution_count": 49,
   "id": "64e62797",
   "metadata": {},
   "outputs": [
    {
     "data": {
      "text/html": [
       "<div>\n",
       "<style scoped>\n",
       "    .dataframe tbody tr th:only-of-type {\n",
       "        vertical-align: middle;\n",
       "    }\n",
       "\n",
       "    .dataframe tbody tr th {\n",
       "        vertical-align: top;\n",
       "    }\n",
       "\n",
       "    .dataframe thead th {\n",
       "        text-align: right;\n",
       "    }\n",
       "</style>\n",
       "<table border=\"1\" class=\"dataframe\">\n",
       "  <thead>\n",
       "    <tr style=\"text-align: right;\">\n",
       "      <th></th>\n",
       "      <th>subject_id</th>\n",
       "      <th>text</th>\n",
       "      <th>icd_code</th>\n",
       "      <th>icd_version</th>\n",
       "      <th>class</th>\n",
       "      <th>shortened_text</th>\n",
       "    </tr>\n",
       "  </thead>\n",
       "  <tbody>\n",
       "    <tr>\n",
       "      <th>0</th>\n",
       "      <td>10000032</td>\n",
       "      <td>\\nName:  ___                     Unit No:   _...</td>\n",
       "      <td>5723</td>\n",
       "      <td>9</td>\n",
       "      <td>0</td>\n",
       "      <td>allergies: No Known Allergies / Adverse Drug R...</td>\n",
       "    </tr>\n",
       "    <tr>\n",
       "      <th>39</th>\n",
       "      <td>10000084</td>\n",
       "      <td>\\nName:  ___                    Unit No:   __...</td>\n",
       "      <td>G3183</td>\n",
       "      <td>10</td>\n",
       "      <td>0</td>\n",
       "      <td>allergies: No Known Allergies / Adverse Drug R...</td>\n",
       "    </tr>\n",
       "    <tr>\n",
       "      <th>45</th>\n",
       "      <td>10000117</td>\n",
       "      <td>\\nName:  ___                 Unit No:   ___\\n...</td>\n",
       "      <td>R1310</td>\n",
       "      <td>10</td>\n",
       "      <td>0</td>\n",
       "      <td>allergies: omeprazole\\n \\nAttending: ___.\\nchi...</td>\n",
       "    </tr>\n",
       "    <tr>\n",
       "      <th>67</th>\n",
       "      <td>10000248</td>\n",
       "      <td>\\nName:  ___                      Unit No:   ...</td>\n",
       "      <td>9222</td>\n",
       "      <td>9</td>\n",
       "      <td>0</td>\n",
       "      <td>allergies: No Known Allergies / Adverse Drug R...</td>\n",
       "    </tr>\n",
       "    <tr>\n",
       "      <th>76</th>\n",
       "      <td>10000764</td>\n",
       "      <td>\\nName:  ___               Unit No:   ___\\n \\...</td>\n",
       "      <td>8020</td>\n",
       "      <td>9</td>\n",
       "      <td>0</td>\n",
       "      <td>allergies: No Known Allergies / Adverse Drug R...</td>\n",
       "    </tr>\n",
       "  </tbody>\n",
       "</table>\n",
       "</div>"
      ],
      "text/plain": [
       "    subject_id                                               text icd_code   \n",
       "0     10000032   \\nName:  ___                     Unit No:   _...     5723  \\\n",
       "39    10000084   \\nName:  ___                    Unit No:   __...    G3183   \n",
       "45    10000117   \\nName:  ___                 Unit No:   ___\\n...    R1310   \n",
       "67    10000248   \\nName:  ___                      Unit No:   ...     9222   \n",
       "76    10000764   \\nName:  ___               Unit No:   ___\\n \\...     8020   \n",
       "\n",
       "    icd_version  class                                     shortened_text  \n",
       "0             9      0  allergies: No Known Allergies / Adverse Drug R...  \n",
       "39           10      0  allergies: No Known Allergies / Adverse Drug R...  \n",
       "45           10      0  allergies: omeprazole\\n \\nAttending: ___.\\nchi...  \n",
       "67            9      0  allergies: No Known Allergies / Adverse Drug R...  \n",
       "76            9      0  allergies: No Known Allergies / Adverse Drug R...  "
      ]
     },
     "execution_count": 49,
     "metadata": {},
     "output_type": "execute_result"
    }
   ],
   "source": [
    "final_class_0_df.head()"
   ]
  },
  {
   "cell_type": "code",
   "execution_count": 50,
   "id": "58577c01",
   "metadata": {},
   "outputs": [
    {
     "data": {
      "text/plain": [
       "(131613, 6)"
      ]
     },
     "execution_count": 50,
     "metadata": {},
     "output_type": "execute_result"
    }
   ],
   "source": [
    "final_class_0_df.shape"
   ]
  },
  {
   "cell_type": "code",
   "execution_count": 53,
   "id": "87f682bc",
   "metadata": {},
   "outputs": [
    {
     "data": {
      "text/html": [
       "<div>\n",
       "<style scoped>\n",
       "    .dataframe tbody tr th:only-of-type {\n",
       "        vertical-align: middle;\n",
       "    }\n",
       "\n",
       "    .dataframe tbody tr th {\n",
       "        vertical-align: top;\n",
       "    }\n",
       "\n",
       "    .dataframe thead th {\n",
       "        text-align: right;\n",
       "    }\n",
       "</style>\n",
       "<table border=\"1\" class=\"dataframe\">\n",
       "  <thead>\n",
       "    <tr style=\"text-align: right;\">\n",
       "      <th></th>\n",
       "      <th>subject_id</th>\n",
       "      <th>text</th>\n",
       "      <th>icd_code</th>\n",
       "      <th>icd_version</th>\n",
       "      <th>class</th>\n",
       "      <th>shortened_text</th>\n",
       "    </tr>\n",
       "  </thead>\n",
       "  <tbody>\n",
       "    <tr>\n",
       "      <th>73</th>\n",
       "      <td>10000560</td>\n",
       "      <td>\\nName:  ___                     Unit No:   _...</td>\n",
       "      <td>1890</td>\n",
       "      <td>9</td>\n",
       "      <td>1</td>\n",
       "      <td>allergies: Patient recorded as having No Known...</td>\n",
       "    </tr>\n",
       "    <tr>\n",
       "      <th>154</th>\n",
       "      <td>10000935</td>\n",
       "      <td>\\nName:  ___                   Unit No:   ___...</td>\n",
       "      <td>1977</td>\n",
       "      <td>9</td>\n",
       "      <td>1</td>\n",
       "      <td>allergies: Sulfa (Sulfonamide Antibiotics) / C...</td>\n",
       "    </tr>\n",
       "    <tr>\n",
       "      <th>419</th>\n",
       "      <td>10001401</td>\n",
       "      <td>\\nName:  ___              Unit No:   ___\\n \\n...</td>\n",
       "      <td>C675</td>\n",
       "      <td>10</td>\n",
       "      <td>1</td>\n",
       "      <td>allergies: No Known Allergies / Adverse Drug R...</td>\n",
       "    </tr>\n",
       "    <tr>\n",
       "      <th>567</th>\n",
       "      <td>10001877</td>\n",
       "      <td>\\nName:  ___                ___ No:   ___\\n \\...</td>\n",
       "      <td>2252</td>\n",
       "      <td>9</td>\n",
       "      <td>1</td>\n",
       "      <td>allergies: Patient recorded as having No Known...</td>\n",
       "    </tr>\n",
       "    <tr>\n",
       "      <th>808</th>\n",
       "      <td>10001919</td>\n",
       "      <td>\\nName:  ___                  Unit No:   ___\\...</td>\n",
       "      <td>C169</td>\n",
       "      <td>10</td>\n",
       "      <td>1</td>\n",
       "      <td>allergies: No Known Allergies / Adverse Drug R...</td>\n",
       "    </tr>\n",
       "  </tbody>\n",
       "</table>\n",
       "</div>"
      ],
      "text/plain": [
       "     subject_id                                               text icd_code   \n",
       "73     10000560   \\nName:  ___                     Unit No:   _...     1890  \\\n",
       "154    10000935   \\nName:  ___                   Unit No:   ___...     1977   \n",
       "419    10001401   \\nName:  ___              Unit No:   ___\\n \\n...     C675   \n",
       "567    10001877   \\nName:  ___                ___ No:   ___\\n \\...     2252   \n",
       "808    10001919   \\nName:  ___                  Unit No:   ___\\...     C169   \n",
       "\n",
       "     icd_version  class                                     shortened_text  \n",
       "73             9      1  allergies: Patient recorded as having No Known...  \n",
       "154            9      1  allergies: Sulfa (Sulfonamide Antibiotics) / C...  \n",
       "419           10      1  allergies: No Known Allergies / Adverse Drug R...  \n",
       "567            9      1  allergies: Patient recorded as having No Known...  \n",
       "808           10      1  allergies: No Known Allergies / Adverse Drug R...  "
      ]
     },
     "execution_count": 53,
     "metadata": {},
     "output_type": "execute_result"
    }
   ],
   "source": [
    "final_class_1_df.head()"
   ]
  },
  {
   "cell_type": "code",
   "execution_count": 54,
   "id": "b50b9b54",
   "metadata": {},
   "outputs": [
    {
     "data": {
      "text/plain": [
       "(14231, 6)"
      ]
     },
     "execution_count": 54,
     "metadata": {},
     "output_type": "execute_result"
    }
   ],
   "source": [
    "final_class_1_df.shape"
   ]
  },
  {
   "cell_type": "code",
   "execution_count": 57,
   "id": "89d1661b",
   "metadata": {},
   "outputs": [],
   "source": [
    "final_class_1_df = final_class_1_df.reset_index()\n",
    "final_class_0_df = final_class_0_df.reset_index()"
   ]
  },
  {
   "cell_type": "code",
   "execution_count": 58,
   "id": "2748ce38",
   "metadata": {},
   "outputs": [
    {
     "data": {
      "text/html": [
       "<div>\n",
       "<style scoped>\n",
       "    .dataframe tbody tr th:only-of-type {\n",
       "        vertical-align: middle;\n",
       "    }\n",
       "\n",
       "    .dataframe tbody tr th {\n",
       "        vertical-align: top;\n",
       "    }\n",
       "\n",
       "    .dataframe thead th {\n",
       "        text-align: right;\n",
       "    }\n",
       "</style>\n",
       "<table border=\"1\" class=\"dataframe\">\n",
       "  <thead>\n",
       "    <tr style=\"text-align: right;\">\n",
       "      <th></th>\n",
       "      <th>level_0</th>\n",
       "      <th>index</th>\n",
       "      <th>subject_id</th>\n",
       "      <th>text</th>\n",
       "      <th>icd_code</th>\n",
       "      <th>icd_version</th>\n",
       "      <th>class</th>\n",
       "      <th>shortened_text</th>\n",
       "    </tr>\n",
       "  </thead>\n",
       "  <tbody>\n",
       "    <tr>\n",
       "      <th>0</th>\n",
       "      <td>0</td>\n",
       "      <td>73</td>\n",
       "      <td>10000560</td>\n",
       "      <td>\\nName:  ___                     Unit No:   _...</td>\n",
       "      <td>1890</td>\n",
       "      <td>9</td>\n",
       "      <td>1</td>\n",
       "      <td>allergies: Patient recorded as having No Known...</td>\n",
       "    </tr>\n",
       "    <tr>\n",
       "      <th>1</th>\n",
       "      <td>1</td>\n",
       "      <td>154</td>\n",
       "      <td>10000935</td>\n",
       "      <td>\\nName:  ___                   Unit No:   ___...</td>\n",
       "      <td>1977</td>\n",
       "      <td>9</td>\n",
       "      <td>1</td>\n",
       "      <td>allergies: Sulfa (Sulfonamide Antibiotics) / C...</td>\n",
       "    </tr>\n",
       "    <tr>\n",
       "      <th>2</th>\n",
       "      <td>2</td>\n",
       "      <td>419</td>\n",
       "      <td>10001401</td>\n",
       "      <td>\\nName:  ___              Unit No:   ___\\n \\n...</td>\n",
       "      <td>C675</td>\n",
       "      <td>10</td>\n",
       "      <td>1</td>\n",
       "      <td>allergies: No Known Allergies / Adverse Drug R...</td>\n",
       "    </tr>\n",
       "    <tr>\n",
       "      <th>3</th>\n",
       "      <td>3</td>\n",
       "      <td>567</td>\n",
       "      <td>10001877</td>\n",
       "      <td>\\nName:  ___                ___ No:   ___\\n \\...</td>\n",
       "      <td>2252</td>\n",
       "      <td>9</td>\n",
       "      <td>1</td>\n",
       "      <td>allergies: Patient recorded as having No Known...</td>\n",
       "    </tr>\n",
       "    <tr>\n",
       "      <th>4</th>\n",
       "      <td>4</td>\n",
       "      <td>808</td>\n",
       "      <td>10001919</td>\n",
       "      <td>\\nName:  ___                  Unit No:   ___\\...</td>\n",
       "      <td>C169</td>\n",
       "      <td>10</td>\n",
       "      <td>1</td>\n",
       "      <td>allergies: No Known Allergies / Adverse Drug R...</td>\n",
       "    </tr>\n",
       "  </tbody>\n",
       "</table>\n",
       "</div>"
      ],
      "text/plain": [
       "   level_0  index  subject_id   \n",
       "0        0     73    10000560  \\\n",
       "1        1    154    10000935   \n",
       "2        2    419    10001401   \n",
       "3        3    567    10001877   \n",
       "4        4    808    10001919   \n",
       "\n",
       "                                                text icd_code  icd_version   \n",
       "0   \\nName:  ___                     Unit No:   _...     1890            9  \\\n",
       "1   \\nName:  ___                   Unit No:   ___...     1977            9   \n",
       "2   \\nName:  ___              Unit No:   ___\\n \\n...     C675           10   \n",
       "3   \\nName:  ___                ___ No:   ___\\n \\...     2252            9   \n",
       "4   \\nName:  ___                  Unit No:   ___\\...     C169           10   \n",
       "\n",
       "   class                                     shortened_text  \n",
       "0      1  allergies: Patient recorded as having No Known...  \n",
       "1      1  allergies: Sulfa (Sulfonamide Antibiotics) / C...  \n",
       "2      1  allergies: No Known Allergies / Adverse Drug R...  \n",
       "3      1  allergies: Patient recorded as having No Known...  \n",
       "4      1  allergies: No Known Allergies / Adverse Drug R...  "
      ]
     },
     "execution_count": 58,
     "metadata": {},
     "output_type": "execute_result"
    }
   ],
   "source": [
    "final_class_1_df.head()"
   ]
  },
  {
   "cell_type": "code",
   "execution_count": null,
   "id": "9ad6693a",
   "metadata": {},
   "outputs": [],
   "source": [
    "# DO NOT RUN RIGHT NOW\n",
    "\n",
    "final_class_1_df = pd.concat([final_class_1_df, final_class_1_df])\n",
    "final_class_0_df = final_class_0_df.head(final_class_1_df.shape[0]) "
   ]
  },
  {
   "cell_type": "code",
   "execution_count": 71,
   "id": "9b9091e5",
   "metadata": {},
   "outputs": [],
   "source": [
    "final_class_1_df = final_class_1_df.drop(['index', 'subject_id', 'text', 'icd_code', 'icd_version'], axis=1)"
   ]
  },
  {
   "cell_type": "code",
   "execution_count": 72,
   "id": "2708b6e4",
   "metadata": {},
   "outputs": [],
   "source": [
    "final_class_0_df = final_class_0_df.drop(['index', 'subject_id', 'text', 'icd_code', 'icd_version'], axis=1)"
   ]
  },
  {
   "cell_type": "code",
   "execution_count": 75,
   "id": "a60a1994",
   "metadata": {},
   "outputs": [
    {
     "data": {
      "text/html": [
       "<div>\n",
       "<style scoped>\n",
       "    .dataframe tbody tr th:only-of-type {\n",
       "        vertical-align: middle;\n",
       "    }\n",
       "\n",
       "    .dataframe tbody tr th {\n",
       "        vertical-align: top;\n",
       "    }\n",
       "\n",
       "    .dataframe thead th {\n",
       "        text-align: right;\n",
       "    }\n",
       "</style>\n",
       "<table border=\"1\" class=\"dataframe\">\n",
       "  <thead>\n",
       "    <tr style=\"text-align: right;\">\n",
       "      <th></th>\n",
       "      <th>level_0</th>\n",
       "      <th>class</th>\n",
       "      <th>shortened_text</th>\n",
       "    </tr>\n",
       "  </thead>\n",
       "  <tbody>\n",
       "    <tr>\n",
       "      <th>0</th>\n",
       "      <td>0</td>\n",
       "      <td>1</td>\n",
       "      <td>allergies: Patient recorded as having No Known...</td>\n",
       "    </tr>\n",
       "    <tr>\n",
       "      <th>1</th>\n",
       "      <td>1</td>\n",
       "      <td>1</td>\n",
       "      <td>allergies: Sulfa (Sulfonamide Antibiotics) / C...</td>\n",
       "    </tr>\n",
       "    <tr>\n",
       "      <th>2</th>\n",
       "      <td>2</td>\n",
       "      <td>1</td>\n",
       "      <td>allergies: No Known Allergies / Adverse Drug R...</td>\n",
       "    </tr>\n",
       "    <tr>\n",
       "      <th>3</th>\n",
       "      <td>3</td>\n",
       "      <td>1</td>\n",
       "      <td>allergies: Patient recorded as having No Known...</td>\n",
       "    </tr>\n",
       "    <tr>\n",
       "      <th>4</th>\n",
       "      <td>4</td>\n",
       "      <td>1</td>\n",
       "      <td>allergies: No Known Allergies / Adverse Drug R...</td>\n",
       "    </tr>\n",
       "    <tr>\n",
       "      <th>...</th>\n",
       "      <td>...</td>\n",
       "      <td>...</td>\n",
       "      <td>...</td>\n",
       "    </tr>\n",
       "    <tr>\n",
       "      <th>14226</th>\n",
       "      <td>14226</td>\n",
       "      <td>1</td>\n",
       "      <td>allergies: No Known Allergies / Adverse Drug R...</td>\n",
       "    </tr>\n",
       "    <tr>\n",
       "      <th>14227</th>\n",
       "      <td>14227</td>\n",
       "      <td>1</td>\n",
       "      <td>allergies: No Known Allergies / Adverse Drug R...</td>\n",
       "    </tr>\n",
       "    <tr>\n",
       "      <th>14228</th>\n",
       "      <td>14228</td>\n",
       "      <td>1</td>\n",
       "      <td>allergies: Ampicillin / Wellbutrin / Penicilli...</td>\n",
       "    </tr>\n",
       "    <tr>\n",
       "      <th>14229</th>\n",
       "      <td>14229</td>\n",
       "      <td>1</td>\n",
       "      <td>allergies: No Known Allergies / Adverse Drug R...</td>\n",
       "    </tr>\n",
       "    <tr>\n",
       "      <th>14230</th>\n",
       "      <td>14230</td>\n",
       "      <td>1</td>\n",
       "      <td>allergies: Patient recorded as having No Known...</td>\n",
       "    </tr>\n",
       "  </tbody>\n",
       "</table>\n",
       "<p>28462 rows × 3 columns</p>\n",
       "</div>"
      ],
      "text/plain": [
       "       level_0  class                                     shortened_text\n",
       "0            0      1  allergies: Patient recorded as having No Known...\n",
       "1            1      1  allergies: Sulfa (Sulfonamide Antibiotics) / C...\n",
       "2            2      1  allergies: No Known Allergies / Adverse Drug R...\n",
       "3            3      1  allergies: Patient recorded as having No Known...\n",
       "4            4      1  allergies: No Known Allergies / Adverse Drug R...\n",
       "...        ...    ...                                                ...\n",
       "14226    14226      1  allergies: No Known Allergies / Adverse Drug R...\n",
       "14227    14227      1  allergies: No Known Allergies / Adverse Drug R...\n",
       "14228    14228      1  allergies: Ampicillin / Wellbutrin / Penicilli...\n",
       "14229    14229      1  allergies: No Known Allergies / Adverse Drug R...\n",
       "14230    14230      1  allergies: Patient recorded as having No Known...\n",
       "\n",
       "[28462 rows x 3 columns]"
      ]
     },
     "execution_count": 75,
     "metadata": {},
     "output_type": "execute_result"
    }
   ],
   "source": [
    "final_class_1_df"
   ]
  },
  {
   "cell_type": "code",
   "execution_count": 76,
   "id": "bc7d5de2",
   "metadata": {},
   "outputs": [
    {
     "data": {
      "text/html": [
       "<div>\n",
       "<style scoped>\n",
       "    .dataframe tbody tr th:only-of-type {\n",
       "        vertical-align: middle;\n",
       "    }\n",
       "\n",
       "    .dataframe tbody tr th {\n",
       "        vertical-align: top;\n",
       "    }\n",
       "\n",
       "    .dataframe thead th {\n",
       "        text-align: right;\n",
       "    }\n",
       "</style>\n",
       "<table border=\"1\" class=\"dataframe\">\n",
       "  <thead>\n",
       "    <tr style=\"text-align: right;\">\n",
       "      <th></th>\n",
       "      <th>class</th>\n",
       "      <th>shortened_text</th>\n",
       "    </tr>\n",
       "  </thead>\n",
       "  <tbody>\n",
       "    <tr>\n",
       "      <th>0</th>\n",
       "      <td>0</td>\n",
       "      <td>allergies: No Known Allergies / Adverse Drug R...</td>\n",
       "    </tr>\n",
       "    <tr>\n",
       "      <th>1</th>\n",
       "      <td>0</td>\n",
       "      <td>allergies: No Known Allergies / Adverse Drug R...</td>\n",
       "    </tr>\n",
       "    <tr>\n",
       "      <th>2</th>\n",
       "      <td>0</td>\n",
       "      <td>allergies: omeprazole\\n \\nAttending: ___.\\nchi...</td>\n",
       "    </tr>\n",
       "    <tr>\n",
       "      <th>3</th>\n",
       "      <td>0</td>\n",
       "      <td>allergies: No Known Allergies / Adverse Drug R...</td>\n",
       "    </tr>\n",
       "    <tr>\n",
       "      <th>4</th>\n",
       "      <td>0</td>\n",
       "      <td>allergies: No Known Allergies / Adverse Drug R...</td>\n",
       "    </tr>\n",
       "    <tr>\n",
       "      <th>...</th>\n",
       "      <td>...</td>\n",
       "      <td>...</td>\n",
       "    </tr>\n",
       "    <tr>\n",
       "      <th>28457</th>\n",
       "      <td>0</td>\n",
       "      <td>allergies: Iodine / Bee Pollens\\n \\nAttending:...</td>\n",
       "    </tr>\n",
       "    <tr>\n",
       "      <th>28458</th>\n",
       "      <td>0</td>\n",
       "      <td>allergies: No Known Allergies / Adverse Drug R...</td>\n",
       "    </tr>\n",
       "    <tr>\n",
       "      <th>28459</th>\n",
       "      <td>0</td>\n",
       "      <td>allergies: No Known Allergies / Adverse Drug R...</td>\n",
       "    </tr>\n",
       "    <tr>\n",
       "      <th>28460</th>\n",
       "      <td>0</td>\n",
       "      <td>allergies: No Known Allergies / Adverse Drug R...</td>\n",
       "    </tr>\n",
       "    <tr>\n",
       "      <th>28461</th>\n",
       "      <td>0</td>\n",
       "      <td>allergies: venom-honey bee\\n \\nAttending: ___....</td>\n",
       "    </tr>\n",
       "  </tbody>\n",
       "</table>\n",
       "<p>28462 rows × 2 columns</p>\n",
       "</div>"
      ],
      "text/plain": [
       "       class                                     shortened_text\n",
       "0          0  allergies: No Known Allergies / Adverse Drug R...\n",
       "1          0  allergies: No Known Allergies / Adverse Drug R...\n",
       "2          0  allergies: omeprazole\\n \\nAttending: ___.\\nchi...\n",
       "3          0  allergies: No Known Allergies / Adverse Drug R...\n",
       "4          0  allergies: No Known Allergies / Adverse Drug R...\n",
       "...      ...                                                ...\n",
       "28457      0  allergies: Iodine / Bee Pollens\\n \\nAttending:...\n",
       "28458      0  allergies: No Known Allergies / Adverse Drug R...\n",
       "28459      0  allergies: No Known Allergies / Adverse Drug R...\n",
       "28460      0  allergies: No Known Allergies / Adverse Drug R...\n",
       "28461      0  allergies: venom-honey bee\\n \\nAttending: ___....\n",
       "\n",
       "[28462 rows x 2 columns]"
      ]
     },
     "execution_count": 76,
     "metadata": {},
     "output_type": "execute_result"
    }
   ],
   "source": [
    "final_class_0_df"
   ]
  },
  {
   "cell_type": "code",
   "execution_count": 73,
   "id": "65a89199",
   "metadata": {},
   "outputs": [
    {
     "name": "stdout",
     "output_type": "stream",
     "text": [
      "CPU times: user 828 ms, sys: 60.9 ms, total: 889 ms\n",
      "Wall time: 923 ms\n"
     ]
    }
   ],
   "source": [
    "%%time\n",
    "final_class_0_df.to_csv('ekdnam_class_0.csv', index=False)"
   ]
  },
  {
   "cell_type": "code",
   "execution_count": 74,
   "id": "33db7701",
   "metadata": {},
   "outputs": [
    {
     "name": "stdout",
     "output_type": "stream",
     "text": [
      "CPU times: user 864 ms, sys: 44.4 ms, total: 908 ms\n",
      "Wall time: 935 ms\n"
     ]
    }
   ],
   "source": [
    "%%time\n",
    "final_class_1_df.to_csv('ekdnam_class_1.csv', index=False)"
   ]
  },
  {
   "cell_type": "code",
   "execution_count": 77,
   "id": "7ad3c195",
   "metadata": {},
   "outputs": [
    {
     "data": {
      "text/html": [
       "<div>\n",
       "<style scoped>\n",
       "    .dataframe tbody tr th:only-of-type {\n",
       "        vertical-align: middle;\n",
       "    }\n",
       "\n",
       "    .dataframe tbody tr th {\n",
       "        vertical-align: top;\n",
       "    }\n",
       "\n",
       "    .dataframe thead th {\n",
       "        text-align: right;\n",
       "    }\n",
       "</style>\n",
       "<table border=\"1\" class=\"dataframe\">\n",
       "  <thead>\n",
       "    <tr style=\"text-align: right;\">\n",
       "      <th></th>\n",
       "      <th>class</th>\n",
       "      <th>shortened_text</th>\n",
       "    </tr>\n",
       "  </thead>\n",
       "  <tbody>\n",
       "    <tr>\n",
       "      <th>0</th>\n",
       "      <td>0</td>\n",
       "      <td>allergies: No Known Allergies / Adverse Drug R...</td>\n",
       "    </tr>\n",
       "    <tr>\n",
       "      <th>1</th>\n",
       "      <td>0</td>\n",
       "      <td>allergies: No Known Allergies / Adverse Drug R...</td>\n",
       "    </tr>\n",
       "    <tr>\n",
       "      <th>2</th>\n",
       "      <td>0</td>\n",
       "      <td>allergies: omeprazole\\n \\nAttending: ___.\\nchi...</td>\n",
       "    </tr>\n",
       "    <tr>\n",
       "      <th>3</th>\n",
       "      <td>0</td>\n",
       "      <td>allergies: No Known Allergies / Adverse Drug R...</td>\n",
       "    </tr>\n",
       "    <tr>\n",
       "      <th>4</th>\n",
       "      <td>0</td>\n",
       "      <td>allergies: No Known Allergies / Adverse Drug R...</td>\n",
       "    </tr>\n",
       "  </tbody>\n",
       "</table>\n",
       "</div>"
      ],
      "text/plain": [
       "   class                                     shortened_text\n",
       "0      0  allergies: No Known Allergies / Adverse Drug R...\n",
       "1      0  allergies: No Known Allergies / Adverse Drug R...\n",
       "2      0  allergies: omeprazole\\n \\nAttending: ___.\\nchi...\n",
       "3      0  allergies: No Known Allergies / Adverse Drug R...\n",
       "4      0  allergies: No Known Allergies / Adverse Drug R..."
      ]
     },
     "execution_count": 77,
     "metadata": {},
     "output_type": "execute_result"
    }
   ],
   "source": [
    "final_class_0_df.head()"
   ]
  },
  {
   "cell_type": "code",
   "execution_count": 81,
   "id": "34c9e0d0",
   "metadata": {},
   "outputs": [],
   "source": [
    "final_class_1_df = final_class_1_df.drop(['level_0'], axis=1)"
   ]
  },
  {
   "cell_type": "code",
   "execution_count": 82,
   "id": "fa0fbe32",
   "metadata": {},
   "outputs": [
    {
     "data": {
      "text/html": [
       "<div>\n",
       "<style scoped>\n",
       "    .dataframe tbody tr th:only-of-type {\n",
       "        vertical-align: middle;\n",
       "    }\n",
       "\n",
       "    .dataframe tbody tr th {\n",
       "        vertical-align: top;\n",
       "    }\n",
       "\n",
       "    .dataframe thead th {\n",
       "        text-align: right;\n",
       "    }\n",
       "</style>\n",
       "<table border=\"1\" class=\"dataframe\">\n",
       "  <thead>\n",
       "    <tr style=\"text-align: right;\">\n",
       "      <th></th>\n",
       "      <th>class</th>\n",
       "      <th>shortened_text</th>\n",
       "    </tr>\n",
       "  </thead>\n",
       "  <tbody>\n",
       "    <tr>\n",
       "      <th>0</th>\n",
       "      <td>1</td>\n",
       "      <td>allergies: Patient recorded as having No Known...</td>\n",
       "    </tr>\n",
       "    <tr>\n",
       "      <th>1</th>\n",
       "      <td>1</td>\n",
       "      <td>allergies: Sulfa (Sulfonamide Antibiotics) / C...</td>\n",
       "    </tr>\n",
       "    <tr>\n",
       "      <th>2</th>\n",
       "      <td>1</td>\n",
       "      <td>allergies: No Known Allergies / Adverse Drug R...</td>\n",
       "    </tr>\n",
       "    <tr>\n",
       "      <th>3</th>\n",
       "      <td>1</td>\n",
       "      <td>allergies: Patient recorded as having No Known...</td>\n",
       "    </tr>\n",
       "    <tr>\n",
       "      <th>4</th>\n",
       "      <td>1</td>\n",
       "      <td>allergies: No Known Allergies / Adverse Drug R...</td>\n",
       "    </tr>\n",
       "  </tbody>\n",
       "</table>\n",
       "</div>"
      ],
      "text/plain": [
       "   class                                     shortened_text\n",
       "0      1  allergies: Patient recorded as having No Known...\n",
       "1      1  allergies: Sulfa (Sulfonamide Antibiotics) / C...\n",
       "2      1  allergies: No Known Allergies / Adverse Drug R...\n",
       "3      1  allergies: Patient recorded as having No Known...\n",
       "4      1  allergies: No Known Allergies / Adverse Drug R..."
      ]
     },
     "execution_count": 82,
     "metadata": {},
     "output_type": "execute_result"
    }
   ],
   "source": [
    "final_class_1_df.head()"
   ]
  },
  {
   "cell_type": "code",
   "execution_count": 96,
   "id": "39c988fc",
   "metadata": {},
   "outputs": [],
   "source": [
    "dataset_df = pd.concat([final_class_1_df, final_class_0_df])\n",
    "dataset_df = dataset_df.reset_index()"
   ]
  },
  {
   "cell_type": "code",
   "execution_count": 97,
   "id": "8c320023",
   "metadata": {},
   "outputs": [
    {
     "data": {
      "text/plain": [
       "(56924, 3)"
      ]
     },
     "execution_count": 97,
     "metadata": {},
     "output_type": "execute_result"
    }
   ],
   "source": [
    "dataset_df.shape"
   ]
  },
  {
   "cell_type": "code",
   "execution_count": 98,
   "id": "c1eed57c",
   "metadata": {},
   "outputs": [],
   "source": [
    "from sklearn.model_selection import StratifiedKFold"
   ]
  },
  {
   "cell_type": "code",
   "execution_count": 99,
   "id": "017d2519",
   "metadata": {},
   "outputs": [],
   "source": [
    "stratified_kfold = StratifiedKFold(n_splits=2, shuffle=True, random_state=42)"
   ]
  },
  {
   "cell_type": "code",
   "execution_count": 100,
   "id": "8742d4e2",
   "metadata": {},
   "outputs": [],
   "source": [
    "X = dataset_df['shortened_text']\n",
    "y = dataset_df['class']\n",
    "\n",
    "train_index, test_index = stratified_kfold.split(X, y)"
   ]
  },
  {
   "cell_type": "code",
   "execution_count": 101,
   "id": "31375671",
   "metadata": {},
   "outputs": [
    {
     "data": {
      "text/plain": [
       "(array([    1,     2,     3, ..., 56915, 56918, 56921]),\n",
       " array([    0,     4,     7, ..., 56920, 56922, 56923]))"
      ]
     },
     "execution_count": 101,
     "metadata": {},
     "output_type": "execute_result"
    }
   ],
   "source": [
    "train_index"
   ]
  },
  {
   "cell_type": "code",
   "execution_count": 102,
   "id": "82e2030a",
   "metadata": {},
   "outputs": [
    {
     "data": {
      "text/plain": [
       "(array([    0,     4,     7, ..., 56920, 56922, 56923]),\n",
       " array([    1,     2,     3, ..., 56915, 56918, 56921]))"
      ]
     },
     "execution_count": 102,
     "metadata": {},
     "output_type": "execute_result"
    }
   ],
   "source": [
    "test_index"
   ]
  },
  {
   "cell_type": "code",
   "execution_count": 104,
   "id": "53a5ac70",
   "metadata": {},
   "outputs": [],
   "source": [
    "X_train, X_test = X[train_index[0]], X[test_index[0]]\n",
    "y_train, y_test = y[train_index[0]], y[test_index[0]]"
   ]
  },
  {
   "cell_type": "code",
   "execution_count": 105,
   "id": "bc0367b0",
   "metadata": {},
   "outputs": [
    {
     "data": {
      "text/plain": [
       "1        allergies: Sulfa (Sulfonamide Antibiotics) / C...\n",
       "2        allergies: No Known Allergies / Adverse Drug R...\n",
       "3        allergies: Patient recorded as having No Known...\n",
       "5        allergies: Codeine\\n \\nAttending: ___.\\nchief ...\n",
       "6        allergies: No Known Allergies / Adverse Drug R...\n",
       "                               ...                        \n",
       "56909    allergies: No Known Allergies / Adverse Drug R...\n",
       "56911    allergies: No Known Allergies / Adverse Drug R...\n",
       "56915    allergies: No Known Allergies / Adverse Drug R...\n",
       "56918    allergies: Gabapentin\\n \\nAttending: ___\\nchie...\n",
       "56921    allergies: No Known Allergies / Adverse Drug R...\n",
       "Name: shortened_text, Length: 28462, dtype: object"
      ]
     },
     "execution_count": 105,
     "metadata": {},
     "output_type": "execute_result"
    }
   ],
   "source": [
    "X_train"
   ]
  },
  {
   "cell_type": "code",
   "execution_count": 106,
   "id": "42aba706",
   "metadata": {},
   "outputs": [
    {
     "data": {
      "text/plain": [
       "0        allergies: Patient recorded as having No Known...\n",
       "4        allergies: No Known Allergies / Adverse Drug R...\n",
       "7        allergies: Percocet / cucumber\\n \\nAttending: ...\n",
       "9        allergies: Penicillins / Shellfish Derived\\n \\...\n",
       "11       allergies: No Known Allergies / Adverse Drug R...\n",
       "                               ...                        \n",
       "56917    allergies: Patient recorded as having No Known...\n",
       "56919    allergies: Iodine / Bee Pollens\\n \\nAttending:...\n",
       "56920    allergies: No Known Allergies / Adverse Drug R...\n",
       "56922    allergies: No Known Allergies / Adverse Drug R...\n",
       "56923    allergies: venom-honey bee\\n \\nAttending: ___....\n",
       "Name: shortened_text, Length: 28462, dtype: object"
      ]
     },
     "execution_count": 106,
     "metadata": {},
     "output_type": "execute_result"
    }
   ],
   "source": [
    "X_test"
   ]
  },
  {
   "cell_type": "code",
   "execution_count": 123,
   "id": "0d7f2a36",
   "metadata": {},
   "outputs": [
    {
     "name": "stdout",
     "output_type": "stream",
     "text": [
      "X    0\n",
      "y    0\n",
      "dtype: int64\n"
     ]
    }
   ],
   "source": [
    "train_df = pd.DataFrame()\n",
    "train_df['X'] = X_train\n",
    "train_df['y'] = y_train\n",
    "print(train_df.isnull().sum())\n",
    "train_df = train_df.dropna()\n",
    "\n",
    "train_df.to_csv('ekdnam_train.csv', index=False)"
   ]
  },
  {
   "cell_type": "code",
   "execution_count": 124,
   "id": "ba8072bf",
   "metadata": {},
   "outputs": [
    {
     "data": {
      "text/plain": [
       "(28462, 2)"
      ]
     },
     "execution_count": 124,
     "metadata": {},
     "output_type": "execute_result"
    }
   ],
   "source": [
    "train_df.shape"
   ]
  },
  {
   "cell_type": "code",
   "execution_count": 125,
   "id": "328c62c8",
   "metadata": {},
   "outputs": [
    {
     "name": "stdout",
     "output_type": "stream",
     "text": [
      "X    0\n",
      "y    0\n",
      "dtype: int64\n"
     ]
    }
   ],
   "source": [
    "test_df = pd.DataFrame()\n",
    "test_df['X'] = X_test\n",
    "test_df['y'] = y_test\n",
    "print(test_df.isnull().sum())\n",
    "test_df = test_df.dropna()\n",
    "\n",
    "test_df.to_csv('ekdnam_test.csv', index=False)"
   ]
  },
  {
   "cell_type": "code",
   "execution_count": 117,
   "id": "912c7e7f",
   "metadata": {},
   "outputs": [
    {
     "data": {
      "text/plain": [
       "X    0\n",
       "y    0\n",
       "dtype: int64"
      ]
     },
     "execution_count": 117,
     "metadata": {},
     "output_type": "execute_result"
    }
   ],
   "source": [
    "train_df.isnull().sum()"
   ]
  },
  {
   "cell_type": "code",
   "execution_count": 118,
   "id": "3fcafb6a",
   "metadata": {},
   "outputs": [
    {
     "data": {
      "text/plain": [
       "X    0\n",
       "y    0\n",
       "dtype: int64"
      ]
     },
     "execution_count": 118,
     "metadata": {},
     "output_type": "execute_result"
    }
   ],
   "source": [
    "test_df.isnull().sum()"
   ]
  },
  {
   "cell_type": "code",
   "execution_count": null,
   "id": "3ded1498",
   "metadata": {},
   "outputs": [],
   "source": []
  }
 ],
 "metadata": {
  "kernelspec": {
   "display_name": "Python 3 (ipykernel)",
   "language": "python",
   "name": "python3"
  },
  "language_info": {
   "codemirror_mode": {
    "name": "ipython",
    "version": 3
   },
   "file_extension": ".py",
   "mimetype": "text/x-python",
   "name": "python",
   "nbconvert_exporter": "python",
   "pygments_lexer": "ipython3",
   "version": "3.11.6"
  }
 },
 "nbformat": 4,
 "nbformat_minor": 5
}
