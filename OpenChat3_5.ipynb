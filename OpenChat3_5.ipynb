{
 "cells": [
  {
   "cell_type": "code",
   "execution_count": null,
   "id": "0bcefc75",
   "metadata": {},
   "outputs": [],
   "source": [
    "%pip install -U torch transformers typing-extensions"
   ]
  },
  {
   "cell_type": "code",
   "execution_count": null,
   "id": "fdd41b15",
   "metadata": {},
   "outputs": [],
   "source": [
    "from transformers import AutoTokenizer, AutoModelForCausalLM\n",
    "\n",
    "tokenizer = AutoTokenizer.from_pretrained(\"openchat/openchat_3.5\")\n",
    "model = AutoModelForCausalLM.from_pretrained(\"openchat/openchat_3.5\")"
   ]
  },
  {
   "cell_type": "code",
   "execution_count": null,
   "id": "7e302d1f",
   "metadata": {},
   "outputs": [],
   "source": [
    "print(tokenizer)"
   ]
  },
  {
   "cell_type": "code",
   "execution_count": null,
   "id": "38a4da26",
   "metadata": {},
   "outputs": [],
   "source": [
    "import pandas as pd\n",
    "\n",
    "data = pd.read_csv(\"/Workspace/Users/degarg@ucsd.edu/train.csv\")\n",
    "data = data[data['y'] == 1]\n",
    "print(data.shape)\n",
    "\n",
    "count = 30"
   ]
  },
  {
   "cell_type": "code",
   "execution_count": null,
   "id": "c8b1ba6f",
   "metadata": {},
   "outputs": [],
   "source": [
    "diag1 = []\n",
    "for i in range(data.shape[0])[:count]:\n",
    "    record = data.iloc[i]['X']\n",
    "    input_text = f\"\"\"Following is a discharge summary of a patient within three back ticks. \\\n",
    "    Given the note, what is the cancer diagnosis for the patient? ```{record}```\\\n",
    "    \"\"\"\n",
    "    input_ids = tokenizer(input_text, return_tensors=\"pt\")[\"input_ids\"]\n",
    "\n",
    "    generated_ids = model.generate(input_ids, max_new_tokens=40, do_sample=True, temperature=0.7)\n",
    "    generated_text = tokenizer.decode(generated_ids[0], clean_up_tokenization_spaces=True)\n",
    "    diag1.append(generated_text.replace(input_text, \"\"))"
   ]
  },
  {
   "cell_type": "code",
   "execution_count": null,
   "id": "c93c6be7",
   "metadata": {},
   "outputs": [],
   "source": [
    "diag2 = []\n",
    "for i in range(data.shape[0])[:count]:\n",
    "    record = data.iloc[i]['X']\n",
    "    input_text = f\"\"\"Following is a discharge summary of a patient within three back ticks. \\\n",
    "    Given the note, what stage cancer is the patient diagnosed with? ```{record}```\\\n",
    "    \"\"\"\n",
    "    input_ids = tokenizer(input_text, return_tensors=\"pt\")[\"input_ids\"]\n",
    "\n",
    "    generated_ids = model.generate(input_ids, max_new_tokens=30, do_sample=True, temperature=0.7)\n",
    "    generated_text = tokenizer.decode(generated_ids[0], clean_up_tokenization_spaces=True)\n",
    "    diag2.append(generated_text.replace(input_text, \"\"))"
   ]
  },
  {
   "cell_type": "code",
   "execution_count": null,
   "id": "b61b9159",
   "metadata": {},
   "outputs": [],
   "source": [
    "adm = []\n",
    "for i in range(data.shape[0])[:count]:\n",
    "    record = data.iloc[i]['X']\n",
    "    input_text = f\"\"\"Following is a discharge summary of a patient within three back ticks. \\\n",
    "    Given the note, why was the patient admitted? ```{record}```\\\n",
    "    \"\"\"\n",
    "    input_ids = tokenizer(input_text, return_tensors=\"pt\")[\"input_ids\"]\n",
    "\n",
    "    generated_ids = model.generate(input_ids, max_new_tokens=80, do_sample=True, temperature=0.65)\n",
    "    generated_text = tokenizer.decode(generated_ids[0], clean_up_tokenization_spaces=True)\n",
    "    adm.append(generated_text.replace(input_text, \"\"))"
   ]
  },
  {
   "cell_type": "code",
   "execution_count": null,
   "id": "1e17ffb9",
   "metadata": {},
   "outputs": [],
   "source": [
    "medication = []\n",
    "for i in range(data.shape[0])[:count]:\n",
    "    record = data.iloc[i]['X']\n",
    "    input_text = f\"\"\"Following is a discharge summary of a patient within three back ticks. \\\n",
    "        Given the note, what is the medication given to the patient chronologically? ```{record}```\\\n",
    "        \"\"\"\n",
    "    input_ids = tokenizer(input_text, return_tensors=\"pt\")[\"input_ids\"]\n",
    "\n",
    "    generated_ids = model.generate(input_ids, max_new_tokens=80, do_sample=True, temperature=0.25)\n",
    "    generated_text = tokenizer.decode(generated_ids[0], clean_up_tokenization_spaces=True)\n",
    "    medication.append(generated_text.replace(input_text, \"\"))"
   ]
  },
  {
   "cell_type": "code",
   "execution_count": null,
   "id": "ff1bc31e",
   "metadata": {},
   "outputs": [],
   "source": [
    "# store the responses in the dataframe\n",
    "\n",
    "res = data[:count]\n",
    "res['medication'] = medication\n",
    "res['type'] = diag1\n",
    "res['stage'] = diag2\n",
    "res['admission_reason'] = adm"
   ]
  },
  {
   "cell_type": "code",
   "execution_count": null,
   "id": "2a1165d7",
   "metadata": {},
   "outputs": [],
   "source": [
    "from datetime import datetime\n",
    "\n",
    "today = datetime.now()\n",
    "res.to_csv(f\"/Workspace/Users/degarg@ucsd.edu/results_{today}.csv\", index=False)"
   ]
  }
 ],
 "metadata": {
  "kernelspec": {
   "display_name": "Python 3 (ipykernel)",
   "language": "python",
   "name": "python3"
  },
  "language_info": {
   "codemirror_mode": {
    "name": "ipython",
    "version": 3
   },
   "file_extension": ".py",
   "mimetype": "text/x-python",
   "name": "python",
   "nbconvert_exporter": "python",
   "pygments_lexer": "ipython3",
   "version": "3.10.12"
  }
 },
 "nbformat": 4,
 "nbformat_minor": 5
}
